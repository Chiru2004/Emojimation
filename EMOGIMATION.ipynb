{
  "nbformat": 4,
  "nbformat_minor": 0,
  "metadata": {
    "colab": {
      "provenance": [],
      "authorship_tag": "ABX9TyP0/ahZV/nxi3rl3S+3D5t7",
      "include_colab_link": true
    },
    "kernelspec": {
      "name": "python3",
      "display_name": "Python 3"
    },
    "language_info": {
      "name": "python"
    },
    "accelerator": "GPU",
    "gpuClass": "standard"
  },
  "cells": [
    {
      "cell_type": "markdown",
      "metadata": {
        "id": "view-in-github",
        "colab_type": "text"
      },
      "source": [
        "<a href=\"https://colab.research.google.com/github/Chiru2004/Emojimation/blob/ver1/EMOGIMATION.ipynb\" target=\"_parent\"><img src=\"https://colab.research.google.com/assets/colab-badge.svg\" alt=\"Open In Colab\"/></a>"
      ]
    },
    {
      "cell_type": "code",
      "execution_count": 3,
      "metadata": {
        "id": "qugR2tLXJ_z2"
      },
      "outputs": [],
      "source": [
        "import numpy as np\n",
        "import pandas as pd\n",
        "import tensorflow as tf\n",
        "import os\n",
        "\n",
        "from keras.preprocessing.image import ImageDataGenerator\n",
        "from tensorflow.keras.utils import load_img\n",
        "from keras.layers import Conv2D, Dense, BatchNormalization, Activation, Dropout, MaxPooling2D, Flatten\n",
        "from tensorflow.keras.optimizers import Adam, RMSprop, SGD\n",
        "from keras.callbacks import ModelCheckpoint,EarlyStopping\n",
        "import datetime\n",
        "from keras import regularizers\n",
        "import matplotlib.pyplot as plt\n",
        "from keras.utils.vis_utils import plot_model\n",
        "from sklearn.model_selection import train_test_split"
      ]
    },
    {
      "cell_type": "code",
      "source": [
        "# Configure kaggle\n",
        "os.chdir('/root/')\n",
        "!mkdir -p .kaggle\n",
        "os.chdir('/root/.kaggle')\n",
        "!wget --no-check-certificate 'https://docs.google.com/uc?export=download&id=1Y-o0TVcjehM8SZB3Nt8U3xkyeQu-Nse-' -O kaggle.json > /dev/null 2>&1\n",
        "!ls /root/.kaggle\n",
        "\n",
        "# Set permissions \n",
        "!chmod 600 /root/.kaggle/kaggle.json\n",
        "\n",
        "# Create data folder\n",
        "os.chdir('/content/')\n",
        "!rm -rf data\n",
        "!mkdir data\n",
        "os.chdir('data')\n",
        "!pwd\n",
        "\n",
        "# Download data\n",
        "!pip install -q kaggle\n",
        "!kaggle competitions download -c challenges-in-representation-learning-facial-expression-recognition-challenge\n",
        "!pwd\n",
        "!ls\n",
        "# Unzip data\n",
        "!unzip challenges-in-representation-learning-facial-expression-recognition-challenge.zip train.csv"
      ],
      "metadata": {
        "colab": {
          "base_uri": "https://localhost:8080/"
        },
        "id": "ILzRf_51KQGo",
        "outputId": "df737800-8a3b-4514-d588-0d9e17e427f6"
      },
      "execution_count": 4,
      "outputs": [
        {
          "output_type": "stream",
          "name": "stdout",
          "text": [
            "kaggle.json\n",
            "/content/data\n",
            "Downloading challenges-in-representation-learning-facial-expression-recognition-challenge.zip to /content/data\n",
            " 97% 277M/285M [00:01<00:00, 201MB/s]\n",
            "100% 285M/285M [00:01<00:00, 161MB/s]\n",
            "/content/data\n",
            "challenges-in-representation-learning-facial-expression-recognition-challenge.zip\n",
            "Archive:  challenges-in-representation-learning-facial-expression-recognition-challenge.zip\n",
            "  inflating: train.csv               \n"
          ]
        }
      ]
    },
    {
      "cell_type": "code",
      "source": [
        "data = pd.read_csv('train.csv')\n",
        "print(data.head(10))\n"
      ],
      "metadata": {
        "colab": {
          "base_uri": "https://localhost:8080/"
        },
        "id": "lXbV16vnLLp5",
        "outputId": "67029cbe-7b49-468f-bcdc-931f5acc80c9"
      },
      "execution_count": 5,
      "outputs": [
        {
          "output_type": "stream",
          "name": "stdout",
          "text": [
            "   emotion                                             pixels\n",
            "0        0  70 80 82 72 58 58 60 63 54 58 60 48 89 115 121...\n",
            "1        0  151 150 147 155 148 133 111 140 170 174 182 15...\n",
            "2        2  231 212 156 164 174 138 161 173 182 200 106 38...\n",
            "3        4  24 32 36 30 32 23 19 20 30 41 21 22 32 34 21 1...\n",
            "4        6  4 0 0 0 0 0 0 0 0 0 0 0 3 15 23 28 48 50 58 84...\n",
            "5        2  55 55 55 55 55 54 60 68 54 85 151 163 170 179 ...\n",
            "6        4  20 17 19 21 25 38 42 42 46 54 56 62 63 66 82 1...\n",
            "7        3  77 78 79 79 78 75 60 55 47 48 58 73 77 79 57 5...\n",
            "8        3  85 84 90 121 101 102 133 153 153 169 177 189 1...\n",
            "9        2  255 254 255 254 254 179 122 107 95 124 149 150...\n"
          ]
        }
      ]
    },
    {
      "cell_type": "code",
      "source": [
        "import csv\n",
        "import numpy\n",
        "\n",
        "train_images = []\n",
        "train_labels = []\n",
        "\n",
        "categories_count = {}\n",
        "\n",
        "with open('train.csv') as train:\n",
        "\n",
        "    # Read train.csv file\n",
        "    csv_reader = csv.reader(train)\n",
        "    \n",
        "    next(csv_reader)  # Skip the header\n",
        "\n",
        "    for row in csv_reader:\n",
        "\n",
        "        # Append image\n",
        "        pixels_str = row[1]\n",
        "        pixels_list = [int(i) for i in pixels_str.split(' ')]\n",
        "        pixels_list = numpy.array(pixels_list, dtype='uint8')\n",
        "        image = pixels_list.reshape((48, 48))\n",
        "        train_images.append(image)\n",
        "\n",
        "        \n",
        "\n",
        "        # Calculate categories count\n",
        "        label_str=row[0]\n",
        "        count = 0\n",
        "        if label_str in categories_count:\n",
        "            count = categories_count[label_str] + 1\n",
        "        categories_count[label_str] = count\n",
        "\n",
        "        # Append label\n",
        "        label = int(label_str)\n",
        "        train_labels.append(label)\n",
        "\n",
        "# Create numpy array of train images and labels\n",
        "x_train = numpy.array(train_images)\n",
        "y_train = numpy.array(train_labels)\n",
        "\n",
        "print('x_train shape: {0}'.format(x_train.shape))\n",
        "print('y_train shape: {0}'.format(y_train.shape))\n"
      ],
      "metadata": {
        "colab": {
          "base_uri": "https://localhost:8080/"
        },
        "id": "1cixamHbLSn2",
        "outputId": "f423f397-5b47-43d1-c3f3-4516ed2d0bc0"
      },
      "execution_count": 6,
      "outputs": [
        {
          "output_type": "stream",
          "name": "stdout",
          "text": [
            "x_train shape: (28709, 48, 48)\n",
            "y_train shape: (28709,)\n"
          ]
        }
      ]
    },
    {
      "cell_type": "code",
      "source": [
        "\n",
        "categories = ('Angry', 'Disgust', 'Fear', 'Happy', 'Sad', 'Surprise', 'Neutral')\n",
        "y_pos = numpy.arange(len(categories))\n",
        "\n",
        "counts = []\n",
        "for label in range(len(categories)):\n",
        "    label_str = str(label)                #type casting\n",
        "    count = categories_count[label_str]\n",
        "    counts.append(count)\n",
        "\n",
        "# Draw histogram\n",
        "plt.bar(y_pos, counts, align='center')\n",
        "plt.xticks(y_pos, categories)\n",
        "plt.ylabel('Count')\n",
        "plt.title('FER2013 Dataset Categories')\n",
        "\n",
        "plt.show()"
      ],
      "metadata": {
        "colab": {
          "base_uri": "https://localhost:8080/",
          "height": 452
        },
        "id": "FmqAaygGLpOh",
        "outputId": "d9cf6577-fa0e-4e4f-982c-1d9ba2121d14"
      },
      "execution_count": 7,
      "outputs": [
        {
          "output_type": "display_data",
          "data": {
            "text/plain": [
              "<Figure size 640x480 with 1 Axes>"
            ],
            "image/png": "[encoded data removed]"
          },
          "metadata": {}
        }
      ]
    },
    {
      "cell_type": "code",
      "source": [
        "# Split dataset into train set and test set\n",
        "x_train, x_test, y_train, y_test = train_test_split(x_train, y_train, test_size=0.2)\n",
        "x_train, x_test = x_train / 255.0, x_test / 255.0  #normalisation\n",
        "print(x_train.shape)\n",
        "x_train = x_train.reshape(len(x_train), 48, 48, 1)\n",
        "x_test = x_test.reshape(len(x_test), 48, 48, 1)\n",
        "\n",
        "print(y_train.shape)\n",
        "print(x_test.shape)\n",
        "print(x_test.shape)"
      ],
      "metadata": {
        "colab": {
          "base_uri": "https://localhost:8080/"
        },
        "id": "sjTd_Pd1L3Ib",
        "outputId": "423fc0d3-ae55-4f07-8704-2e705e85057e"
      },
      "execution_count": 8,
      "outputs": [
        {
          "output_type": "stream",
          "name": "stdout",
          "text": [
            "(22967, 48, 48)\n",
            "(22967,)\n",
            "(5742, 48, 48, 1)\n",
            "(5742, 48, 48, 1)\n"
          ]
        }
      ]
    },
    {
      "cell_type": "markdown",
      "source": [
        "# New Section"
      ],
      "metadata": {
        "id": "ZtxYz6d_W1iw"
      }
    },
    {
      "cell_type": "code",
      "source": [
        "from tensorflow.keras.models import Sequential"
      ],
      "metadata": {
        "id": "SE0o6pB_ii03"
      },
      "execution_count": 9,
      "outputs": []
    },
    {
      "cell_type": "code",
      "source": [
        "model=Sequential(name=\"Sq\")\n",
        "\"\"\"\n",
        "model.add(Conv2D(128,(3,3),padding='valid',activation=\"relu\",input_shape=(48,48,1)))\n",
        "model.add(BatchNormalization())\n",
        "model.add(MaxPooling2D(pool_size=(2,2),strides=2,padding='valid'))\n",
        "\n",
        "model.add(Conv2D(128,(3,3),padding='valid',activation=\"relu\"))\n",
        "model.add(BatchNormalization())\n",
        "model.add(MaxPooling2D(pool_size=(2,2),strides=2,padding='valid'))\n",
        "\n",
        "model.add(Conv2D(64,(3,3),padding='valid',activation=\"relu\"))\n",
        "model.add(BatchNormalization())\n",
        "model.add(MaxPooling2D(pool_size=(2,2),strides=2,padding='valid'))\n",
        "\n",
        "#fully connected layer\n",
        "model.add(Dense(128,activation=\"relu\"))\n",
        "model.add(Dropout(0.1))\n",
        "model.add(Dense(64,activation=\"relu\"))\n",
        "model.add(Dropout(0.1))\n",
        "model.add(Dense(7,activation=\"softmax\"))\n",
        "\"\"\"\n",
        "\n",
        "\n",
        "\n",
        "model.add(Conv2D(64,(3,3),activation='relu',padding='same',input_shape=(48,48,1), name=\"Conv\"))\n",
        "model.add(BatchNormalization())\n",
        "model.add(Conv2D(64,(3,3),activation='relu',padding='same',name=\"Conv_2\"))\n",
        "model.add(BatchNormalization(name=\"batch_2\"))\n",
        "model.add(MaxPooling2D((2,2) , strides=2 ,name=\"Pool_1\"))\n",
        "model.add(Dropout(0.3,name=\"dp1\"))\n",
        "\n",
        "#2nd layer\n",
        "model.add(Conv2D(128,(3,3),activation='relu',padding='same',name=\"Conv2_3\"))\n",
        "model.add(BatchNormalization(name=\"batch3\"))\n",
        "model.add(Conv2D(128,(3,3),activation='relu',padding='same',name=\"Conv2_4\"))\n",
        "model.add(BatchNormalization(name=\"batch4\"))\n",
        "model.add(MaxPooling2D((2,2),strides=(2,2),name=\"Pool2\"))\n",
        "model.add(Dropout(0.3,name=\"dp2\"))\n",
        "\n",
        "#3rd layer\n",
        "model.add(Conv2D(256,(3,3),activation='relu',padding='same',name=\"Conv3_5\"))\n",
        "model.add(BatchNormalization(name=\"batch5\"))\n",
        "model.add(Conv2D(256,(3,3),activation='relu',padding='same',name=\"Conv3_6\"))\n",
        "model.add(BatchNormalization(name=\"batch6\"))\n",
        "model.add(Conv2D(256,(3,3),activation='relu',padding='same',name=\"Conv3_7\"))\n",
        "model.add(BatchNormalization(name=\"batch7\"))\n",
        "model.add(MaxPooling2D((2,2),strides=(2,2),name=\"Pool3\"))\n",
        "model.add(Dropout(0.3,name=\"dp3\"))\n",
        "\n",
        "#4th layer\n",
        "model.add(Conv2D(512,(3,3),activation='relu',padding='same',name=\"Conv4_8\"))\n",
        "model.add(BatchNormalization(name=\"batch8\"))\n",
        "model.add(Conv2D(512,(3,3),activation='relu',padding='same',name=\"Conv4_9\"))\n",
        "model.add(BatchNormalization(name=\"batch9\"))\n",
        "model.add(Conv2D(512,(3,3),activation='relu',padding='same',name=\"Conv4_10\"))\n",
        "model.add(BatchNormalization(name=\"batch10\"))\n",
        "model.add(MaxPooling2D((2,2),strides=(2,2),name=\"Pool4\"))\n",
        "model.add(Dropout(0.3,name=\"dp4\"))\n",
        "\n",
        "#fully connected layer\n",
        "model.add(Flatten())\n",
        "model.add(Dense(256, activation='relu',name='fc_1'))\n",
        "model.add(Dense(128, activation='relu',name='fc_2'))\n",
        "model.add(Dropout(0.2, name=\"dp6\"))\n",
        "model.add(Dense(7,activation='softmax',name=\"output\"))\n"
      ],
      "metadata": {
        "id": "y4kwS-HwdTMO"
      },
      "execution_count": 10,
      "outputs": []
    },
    {
      "cell_type": "code",
      "source": [
        "model.summary()"
      ],
      "metadata": {
        "colab": {
          "base_uri": "https://localhost:8080/"
        },
        "id": "3KkDyExd0FxL",
        "outputId": "058ce11c-6ae9-4001-a787-19d55b05af43"
      },
      "execution_count": 11,
      "outputs": [
        {
          "output_type": "stream",
          "name": "stdout",
          "text": [
            "Model: \"Sq\"\n",
            "_________________________________________________________________\n",
            " Layer (type)                Output Shape              Param #   \n",
            "=================================================================\n",
            " Conv (Conv2D)               (None, 48, 48, 64)        640       \n",
            "                                                                 \n",
            " batch_normalization (BatchN  (None, 48, 48, 64)       256       \n",
            " ormalization)                                                   \n",
            "                                                                 \n",
            " Conv_2 (Conv2D)             (None, 48, 48, 64)        36928     \n",
            "                                                                 \n",
            " batch_2 (BatchNormalization  (None, 48, 48, 64)       256       \n",
            " )                                                               \n",
            "                                                                 \n",
            " Pool_1 (MaxPooling2D)       (None, 24, 24, 64)        0         \n",
            "                                                                 \n",
            " dp1 (Dropout)               (None, 24, 24, 64)        0         \n",
            "                                                                 \n",
            " Conv2_3 (Conv2D)            (None, 24, 24, 128)       73856     \n",
            "                                                                 \n",
            " batch3 (BatchNormalization)  (None, 24, 24, 128)      512       \n",
            "                                                                 \n",
            " Conv2_4 (Conv2D)            (None, 24, 24, 128)       147584    \n",
            "                                                                 \n",
            " batch4 (BatchNormalization)  (None, 24, 24, 128)      512       \n",
            "                                                                 \n",
            " Pool2 (MaxPooling2D)        (None, 12, 12, 128)       0         \n",
            "                                                                 \n",
            " dp2 (Dropout)               (None, 12, 12, 128)       0         \n",
            "                                                                 \n",
            " Conv3_5 (Conv2D)            (None, 12, 12, 256)       295168    \n",
            "                                                                 \n",
            " batch5 (BatchNormalization)  (None, 12, 12, 256)      1024      \n",
            "                                                                 \n",
            " Conv3_6 (Conv2D)            (None, 12, 12, 256)       590080    \n",
            "                                                                 \n",
            " batch6 (BatchNormalization)  (None, 12, 12, 256)      1024      \n",
            "                                                                 \n",
            " Conv3_7 (Conv2D)            (None, 12, 12, 256)       590080    \n",
            "                                                                 \n",
            " batch7 (BatchNormalization)  (None, 12, 12, 256)      1024      \n",
            "                                                                 \n",
            " Pool3 (MaxPooling2D)        (None, 6, 6, 256)         0         \n",
            "                                                                 \n",
            " dp3 (Dropout)               (None, 6, 6, 256)         0         \n",
            "                                                                 \n",
            " Conv4_8 (Conv2D)            (None, 6, 6, 512)         1180160   \n",
            "                                                                 \n",
            " batch8 (BatchNormalization)  (None, 6, 6, 512)        2048      \n",
            "                                                                 \n",
            " Conv4_9 (Conv2D)            (None, 6, 6, 512)         2359808   \n",
            "                                                                 \n",
            " batch9 (BatchNormalization)  (None, 6, 6, 512)        2048      \n",
            "                                                                 \n",
            " Conv4_10 (Conv2D)           (None, 6, 6, 512)         2359808   \n",
            "                                                                 \n",
            " batch10 (BatchNormalization  (None, 6, 6, 512)        2048      \n",
            " )                                                               \n",
            "                                                                 \n",
            " Pool4 (MaxPooling2D)        (None, 3, 3, 512)         0         \n",
            "                                                                 \n",
            " dp4 (Dropout)               (None, 3, 3, 512)         0         \n",
            "                                                                 \n",
            " flatten (Flatten)           (None, 4608)              0         \n",
            "                                                                 \n",
            " fc_1 (Dense)                (None, 256)               1179904   \n",
            "                                                                 \n",
            " fc_2 (Dense)                (None, 128)               32896     \n",
            "                                                                 \n",
            " dp6 (Dropout)               (None, 128)               0         \n",
            "                                                                 \n",
            " output (Dense)              (None, 7)                 903       \n",
            "                                                                 \n",
            "=================================================================\n",
            "Total params: 8,858,567\n",
            "Trainable params: 8,853,191\n",
            "Non-trainable params: 5,376\n",
            "_________________________________________________________________\n"
          ]
        }
      ]
    },
    {
      "cell_type": "code",
      "source": [
        "model.compile(optimizer='adam',loss='sparse_categorical_crossentropy',metrics=['accuracy'])\n"
      ],
      "metadata": {
        "id": "D9Q0mgg_0Ph0"
      },
      "execution_count": 12,
      "outputs": []
    },
    {
      "cell_type": "code",
      "source": [
        "history=model.fit(x=x_train,y=y_train,epochs=25,verbose=1,validation_split=0.17)"
      ],
      "metadata": {
        "colab": {
          "base_uri": "https://localhost:8080/"
        },
        "id": "R9ypTyhLHHcf",
        "outputId": "21a544d1-13bb-417f-9d5c-c4ff9c58e82d"
      },
      "execution_count": 13,
      "outputs": [
        {
          "output_type": "stream",
          "name": "stdout",
          "text": [
            "Epoch 1/25\n",
            "596/596 [==============================] - 46s 44ms/step - loss: 1.9303 - accuracy: 0.2396 - val_loss: 1.8266 - val_accuracy: 0.2843\n",
            "Epoch 2/25\n",
            "596/596 [==============================] - 26s 43ms/step - loss: 1.6147 - accuracy: 0.3640 - val_loss: 1.5405 - val_accuracy: 0.4023\n",
            "Epoch 3/25\n",
            "596/596 [==============================] - 26s 43ms/step - loss: 1.4128 - accuracy: 0.4540 - val_loss: 1.4118 - val_accuracy: 0.4438\n",
            "Epoch 4/25\n",
            "596/596 [==============================] - 25s 43ms/step - loss: 1.3043 - accuracy: 0.5036 - val_loss: 1.3340 - val_accuracy: 0.4948\n",
            "Epoch 5/25\n",
            "596/596 [==============================] - 26s 43ms/step - loss: 1.2365 - accuracy: 0.5271 - val_loss: 1.3280 - val_accuracy: 0.5147\n",
            "Epoch 6/25\n",
            "596/596 [==============================] - 25s 43ms/step - loss: 1.1982 - accuracy: 0.5462 - val_loss: 1.3100 - val_accuracy: 0.5029\n",
            "Epoch 7/25\n",
            "596/596 [==============================] - 26s 43ms/step - loss: 1.1585 - accuracy: 0.5636 - val_loss: 1.2360 - val_accuracy: 0.5457\n",
            "Epoch 8/25\n",
            "596/596 [==============================] - 26s 43ms/step - loss: 1.1165 - accuracy: 0.5740 - val_loss: 1.6494 - val_accuracy: 0.4133\n",
            "Epoch 9/25\n",
            "596/596 [==============================] - 25s 43ms/step - loss: 1.0773 - accuracy: 0.5888 - val_loss: 1.1942 - val_accuracy: 0.5501\n",
            "Epoch 10/25\n",
            "596/596 [==============================] - 25s 43ms/step - loss: 1.0363 - accuracy: 0.6072 - val_loss: 1.2419 - val_accuracy: 0.5490\n",
            "Epoch 11/25\n",
            "596/596 [==============================] - 26s 43ms/step - loss: 0.9899 - accuracy: 0.6329 - val_loss: 1.2163 - val_accuracy: 0.5772\n",
            "Epoch 12/25\n",
            "596/596 [==============================] - 26s 43ms/step - loss: 0.9434 - accuracy: 0.6502 - val_loss: 1.2051 - val_accuracy: 0.5808\n",
            "Epoch 13/25\n",
            "596/596 [==============================] - 26s 43ms/step - loss: 0.8918 - accuracy: 0.6683 - val_loss: 1.1280 - val_accuracy: 0.6015\n",
            "Epoch 14/25\n",
            "596/596 [==============================] - 26s 43ms/step - loss: 0.8555 - accuracy: 0.6878 - val_loss: 1.1478 - val_accuracy: 0.6061\n",
            "Epoch 15/25\n",
            "596/596 [==============================] - 25s 43ms/step - loss: 0.7842 - accuracy: 0.7138 - val_loss: 1.1546 - val_accuracy: 0.5972\n",
            "Epoch 16/25\n",
            "596/596 [==============================] - 25s 43ms/step - loss: 0.7236 - accuracy: 0.7295 - val_loss: 1.2235 - val_accuracy: 0.6195\n",
            "Epoch 17/25\n",
            "596/596 [==============================] - 26s 43ms/step - loss: 0.6628 - accuracy: 0.7613 - val_loss: 1.2773 - val_accuracy: 0.6097\n",
            "Epoch 18/25\n",
            "596/596 [==============================] - 26s 43ms/step - loss: 0.5992 - accuracy: 0.7867 - val_loss: 1.2324 - val_accuracy: 0.6172\n",
            "Epoch 19/25\n",
            "596/596 [==============================] - 25s 43ms/step - loss: 0.5405 - accuracy: 0.8065 - val_loss: 1.3398 - val_accuracy: 0.6174\n",
            "Epoch 20/25\n",
            "596/596 [==============================] - 26s 43ms/step - loss: 0.4846 - accuracy: 0.8302 - val_loss: 1.4663 - val_accuracy: 0.6154\n",
            "Epoch 21/25\n",
            "596/596 [==============================] - 25s 43ms/step - loss: 0.4364 - accuracy: 0.8448 - val_loss: 1.4144 - val_accuracy: 0.6228\n",
            "Epoch 22/25\n",
            "596/596 [==============================] - 26s 43ms/step - loss: 0.3920 - accuracy: 0.8638 - val_loss: 1.4738 - val_accuracy: 0.6225\n",
            "Epoch 23/25\n",
            "596/596 [==============================] - 26s 43ms/step - loss: 0.3580 - accuracy: 0.8761 - val_loss: 1.4569 - val_accuracy: 0.6241\n",
            "Epoch 24/25\n",
            "596/596 [==============================] - 26s 43ms/step - loss: 0.3225 - accuracy: 0.8868 - val_loss: 1.6792 - val_accuracy: 0.6149\n",
            "Epoch 25/25\n",
            "596/596 [==============================] - 26s 43ms/step - loss: 0.2890 - accuracy: 0.9024 - val_loss: 1.5944 - val_accuracy: 0.6190\n"
          ]
        }
      ]
    },
    {
      "cell_type": "code",
      "source": [
        "import matplotlib.pyplot as plt\n",
        "plt.plot(history.history['accuracy'],color='red',label='train')\n",
        "plt.plot(history.history['val_accuracy'],color='blue',label='validation')\n",
        "plt.legend()\n",
        "plt.show()"
      ],
      "metadata": {
        "colab": {
          "base_uri": "https://localhost:8080/",
          "height": 430
        },
        "id": "Syhc0jm4S3S0",
        "outputId": "86e5ee74-8e28-473d-f16c-0303057a5398"
      },
      "execution_count": 14,
      "outputs": [
        {
          "output_type": "display_data",
          "data": {
            "text/plain": [
              "<Figure size 640x480 with 1 Axes>"
            ],
            "image/png": "[encoded data removed]"
          },
          "metadata": {}
        }
      ]
    },
    {
      "cell_type": "code",
      "source": [
        "prediction=model.predict(x=x_test,batch_size=0,verbose=1)"
      ],
      "metadata": {
        "colab": {
          "base_uri": "https://localhost:8080/"
        },
        "id": "yNPV3CYLkJy7",
        "outputId": "52a0455a-6b1b-425f-fa4c-8ef8fbfb215d"
      },
      "execution_count": 17,
      "outputs": [
        {
          "output_type": "stream",
          "name": "stdout",
          "text": [
            "180/180 [==============================] - 2s 11ms/step\n"
          ]
        }
      ]
    },
    {
      "cell_type": "code",
      "source": [
        "for i in range(10):\n",
        "  print(prediction[i])"
      ],
      "metadata": {
        "colab": {
          "base_uri": "https://localhost:8080/"
        },
        "id": "9I4KeQrAuAcN",
        "outputId": "e7a12ef3-3208-441e-a15c-5c9cb35ef061"
      },
      "execution_count": 18,
      "outputs": [
        {
          "output_type": "stream",
          "name": "stdout",
          "text": [
            "[1.7839440e-05 4.8695044e-09 1.0085395e-02 1.4030040e-06 9.8985744e-01\n",
            " 5.1216165e-09 3.7943893e-05]\n",
            "[6.2140776e-04 1.0831224e-08 1.7174504e-04 9.9914861e-01 1.8562301e-05\n",
            " 2.4463552e-05 1.5183637e-05]\n",
            "[5.5732762e-06 5.9813449e-10 1.8648732e-05 9.9782985e-01 7.5883014e-07\n",
            " 2.1257428e-03 1.9323936e-05]\n",
            "[9.1447890e-02 7.7931111e-04 3.9195505e-01 3.8833654e-04 4.7849721e-01\n",
            " 1.0720021e-03 3.5860244e-02]\n",
            "[3.1339912e-06 4.1506465e-09 2.2702355e-02 7.3767808e-07 9.7728914e-01\n",
            " 5.1334061e-09 4.6419186e-06]\n",
            "[1.33219231e-08 1.08721205e-16 1.33761224e-09 9.99907494e-01\n",
            " 2.17695710e-08 9.83162440e-10 9.24329361e-05]\n",
            "[0.05336556 0.00168701 0.23406021 0.01691972 0.10394802 0.07248871\n",
            " 0.5175308 ]\n",
            "[5.1409632e-05 8.4263296e-10 1.8510575e-05 9.9979562e-01 7.6644510e-06\n",
            " 5.1397132e-05 7.5534335e-05]\n",
            "[2.0170780e-03 9.8996388e-05 1.5209238e-02 8.5931426e-01 1.3871406e-03\n",
            " 1.2012814e-01 1.8451631e-03]\n",
            "[0.27011257 0.00273817 0.05335471 0.00604077 0.10391424 0.01896601\n",
            " 0.54487354]\n"
          ]
        }
      ]
    },
    {
      "cell_type": "code",
      "source": [
        "rounded_prediction=np.argmax(prediction,axis=1)"
      ],
      "metadata": {
        "id": "ld2LxeuDtYgP"
      },
      "execution_count": 19,
      "outputs": []
    },
    {
      "cell_type": "code",
      "source": [
        "model.evaluate(x=x_test,y=y_test,verbose=1)"
      ],
      "metadata": {
        "colab": {
          "base_uri": "https://localhost:8080/"
        },
        "id": "m1ytKzMrnubR",
        "outputId": "3793ffac-8706-4c5b-e41c-15cebbb89184"
      },
      "execution_count": 20,
      "outputs": [
        {
          "output_type": "stream",
          "name": "stdout",
          "text": [
            "180/180 [==============================] - 2s 11ms/step - loss: 1.6186 - accuracy: 0.6137\n"
          ]
        },
        {
          "output_type": "execute_result",
          "data": {
            "text/plain": [
              "[1.6185637712478638, 0.6137234568595886]"
            ]
          },
          "metadata": {},
          "execution_count": 20
        }
      ]
    },
    {
      "cell_type": "code",
      "source": [
        "count1=0;\n",
        "count2=0;\n",
        "for i in range(len(y_test)):\n",
        "  if(y_test[i]==rounded_prediction[i]):\n",
        "    count1=count1+1\n",
        "  else:\n",
        "    count2=count2+1\n",
        "print(\"Total predictions=> \",count1+count2,\"\\nTotal correct predictions=> \",count1,\"\\nTotal wrong predictions=> \",count2)\n",
        "per=(count1/(count1+count2))*100\n",
        "print(\"percentage success=> \",per,\"\\nPercentage failure\",100-per)\n"
      ],
      "metadata": {
        "colab": {
          "base_uri": "https://localhost:8080/"
        },
        "id": "TTzE2K53kjXk",
        "outputId": "2b725d00-18dd-4aee-d87d-c21712352a99"
      },
      "execution_count": 21,
      "outputs": [
        {
          "output_type": "stream",
          "name": "stdout",
          "text": [
            "Total predictions=>  5742 \n",
            "Total correct predictions=>  3524 \n",
            "Total wrong predictions=>  2218\n",
            "percentage success=>  61.37234413096482 \n",
            "Percentage failure 38.62765586903518\n"
          ]
        }
      ]
    }
  ]
}
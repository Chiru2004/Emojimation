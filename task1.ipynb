{
  "nbformat": 4,
  "nbformat_minor": 0,
  "metadata": {
    "colab": {
      "provenance": [],
      "include_colab_link": true
    },
    "kernelspec": {
      "name": "python3",
      "display_name": "Python 3"
    },
    "language_info": {
      "name": "python"
    },
    "accelerator": "GPU",
    "gpuClass": "standard"
  },
  "cells": [
    {
      "cell_type": "markdown",
      "metadata": {
        "id": "view-in-github",
        "colab_type": "text"
      },
      "source": [
        "<a href=\"https://colab.research.google.com/github/Chiru2004/Emojimation/blob/main/task1.ipynb\" target=\"_parent\"><img src=\"https://colab.research.google.com/assets/colab-badge.svg\" alt=\"Open In Colab\"/></a>"
      ]
    },
    {
      "cell_type": "code",
      "execution_count": 1,
      "metadata": {
        "id": "HQY3_wwygVvP"
      },
      "outputs": [],
      "source": [
        "import numpy as np\n",
        "import pandas as pd\n",
        "import tensorflow as tf\n",
        "import os\n",
        "from keras.preprocessing.image import ImageDataGenerator\n",
        "from tensorflow.keras.utils import load_img\n",
        "from keras.layers import Conv2D, Dense, BatchNormalization, Activation, Dropout, MaxPooling2D, Flatten\n",
        "from tensorflow.keras.optimizers import Adam, RMSprop, SGD\n",
        "from keras.callbacks import ModelCheckpoint,EarlyStopping\n",
        "import datetime\n",
        "from keras import regularizers\n",
        "import matplotlib.pyplot as plt\n",
        "from keras.utils.vis_utils import plot_model\n",
        "from sklearn.model_selection import train_test_split"
      ]
    },
    {
      "cell_type": "code",
      "source": [
        "# Configure kaggle\n",
        "os.chdir('/root/')\n",
        "!mkdir -p .kaggle\n",
        "os.chdir('/root/.kaggle')\n",
        "!wget --no-check-certificate 'https://docs.google.com/uc?export=download&id=1Y-o0TVcjehM8SZB3Nt8U3xkyeQu-Nse-' -O kaggle.json > /dev/null 2>&1\n",
        "!ls /root/.kaggle\n",
        "\n",
        "# Set permissions \n",
        "!chmod 600 /root/.kaggle/kaggle.json\n",
        "\n",
        "# Create data folder\n",
        "os.chdir('/content/')\n",
        "!rm -rf data\n",
        "!mkdir data\n",
        "os.chdir('data')\n",
        "!pwd\n",
        "\n",
        "# Download data\n",
        "!pip install -q kaggle\n",
        "!kaggle competitions download -c challenges-in-representation-learning-facial-expression-recognition-challenge\n",
        "!pwd\n",
        "!ls\n",
        "# Unzip data\n",
        "!unzip challenges-in-representation-learning-facial-expression-recognition-challenge.zip train.csv"
      ],
      "metadata": {
        "colab": {
          "base_uri": "https://localhost:8080/"
        },
        "id": "A_Y6R5rqgbVE",
        "outputId": "5ec0089d-ab51-493b-f81d-db2fadb1aa80"
      },
      "execution_count": 2,
      "outputs": [
        {
          "output_type": "stream",
          "name": "stdout",
          "text": [
            "kaggle.json\n",
            "/content/data\n",
            "Downloading challenges-in-representation-learning-facial-expression-recognition-challenge.zip to /content/data\n",
            " 91% 259M/285M [00:01<00:00, 169MB/s]\n",
            "100% 285M/285M [00:01<00:00, 164MB/s]\n",
            "/content/data\n",
            "challenges-in-representation-learning-facial-expression-recognition-challenge.zip\n",
            "Archive:  challenges-in-representation-learning-facial-expression-recognition-challenge.zip\n",
            "  inflating: train.csv               \n"
          ]
        }
      ]
    },
    {
      "cell_type": "code",
      "source": [
        "data = pd.read_csv('train.csv')\n",
        "print(data.head(5))"
      ],
      "metadata": {
        "colab": {
          "base_uri": "https://localhost:8080/"
        },
        "id": "L0Y0Cc-Mgd8w",
        "outputId": "49fdc9bd-1e28-4dbf-9a12-046b279cbbce"
      },
      "execution_count": 3,
      "outputs": [
        {
          "output_type": "stream",
          "name": "stdout",
          "text": [
            "   emotion                                             pixels\n",
            "0        0  70 80 82 72 58 58 60 63 54 58 60 48 89 115 121...\n",
            "1        0  151 150 147 155 148 133 111 140 170 174 182 15...\n",
            "2        2  231 212 156 164 174 138 161 173 182 200 106 38...\n",
            "3        4  24 32 36 30 32 23 19 20 30 41 21 22 32 34 21 1...\n",
            "4        6  4 0 0 0 0 0 0 0 0 0 0 0 3 15 23 28 48 50 58 84...\n"
          ]
        }
      ]
    },
    {
      "cell_type": "code",
      "source": [
        "import csv\n",
        "import numpy\n",
        "\n",
        "train_images = []\n",
        "train_labels = []\n",
        "\n",
        "categories_count = {}\n",
        "\n",
        "with open('train.csv') as train:\n",
        "\n",
        "    # Read train.csv file\n",
        "    csv_reader = csv.reader(train)\n",
        "    \n",
        "    next(csv_reader)  # Skip the header\n",
        "\n",
        "    for row in csv_reader:\n",
        "\n",
        "        # Append image\n",
        "        pixels_str = row[1]\n",
        "        pixels_list = [int(i) for i in pixels_str.split(' ')]\n",
        "        pixels_list = numpy.array(pixels_list, dtype='uint8')\n",
        "        image = pixels_list.reshape((48, 48))\n",
        "        train_images.append(image)\n",
        "\n",
        "        label_str = row[0]\n",
        "\n",
        "        # Calculate categories count\n",
        "        count = 0\n",
        "        if label_str in categories_count:\n",
        "            count = categories_count[label_str] + 1\n",
        "        categories_count[label_str] = count\n",
        "\n",
        "        # Append label\n",
        "        label = int(label_str)\n",
        "        train_labels.append(label)\n",
        "\n",
        "# Create numpy array of train images and labels\n",
        "x_train = numpy.array(train_images)\n",
        "y_train = numpy.array(train_labels)\n",
        "\n",
        "print('x_train shape: {0}'.format(x_train.shape))\n",
        "print('y_train shape: {0}'.format(y_train.shape))"
      ],
      "metadata": {
        "colab": {
          "base_uri": "https://localhost:8080/"
        },
        "id": "HViu1igcggw4",
        "outputId": "5951f57d-d0d7-4761-8b2d-de75fcc1ecf2"
      },
      "execution_count": 4,
      "outputs": [
        {
          "output_type": "stream",
          "name": "stdout",
          "text": [
            "x_train shape: (28709, 48, 48)\n",
            "y_train shape: (28709,)\n"
          ]
        }
      ]
    },
    {
      "cell_type": "code",
      "source": [
        "categories = ('Angry', 'Disgust', 'Fear', 'Happy', 'Sad', 'Surprise', 'Neutral')\n",
        "y_pos = numpy.arange(len(categories))\n",
        "\n",
        "counts = []\n",
        "for label in range(len(categories)):\n",
        "    label_str = str(label)\n",
        "    count = categories_count[label_str]\n",
        "    counts.append(count)\n",
        "\n",
        "# Draw histogram\n",
        "plt.bar(y_pos, counts, align='center')\n",
        "plt.xticks(y_pos, categories)\n",
        "plt.ylabel('Count')\n",
        "plt.title('FER2013 Dataset Categories')\n",
        "\n",
        "plt.show()"
      ],
      "metadata": {
        "colab": {
          "base_uri": "https://localhost:8080/",
          "height": 452
        },
        "id": "YzII6OtRgjyK",
        "outputId": "898bb728-4121-4c13-cb92-3d7ef4849e3c"
      },
      "execution_count": 5,
      "outputs": [
        {
          "output_type": "display_data",
          "data": {
            "text/plain": [
              "<Figure size 640x480 with 1 Axes>"
            ],
            "image/png": "[encoded data removed]"
          },
          "metadata": {}
        }
      ]
    },
    {
      "cell_type": "code",
      "source": [
        "\n",
        "# Split dataset into train set and test set\n",
        "x_train, x_test, y_train, y_test = train_test_split(x_train, y_train, test_size=0.2)\n",
        "x_train, x_test = x_train / 255.0, x_test / 255.0\n",
        "\n",
        "x_train = x_train.reshape(len(x_train), 48, 48, 1)\n",
        "x_test = x_test.reshape(len(x_test), 48, 48, 1)\n",
        "\n",
        "print(x_train.shape)\n",
        "print(x_test.shape)"
      ],
      "metadata": {
        "colab": {
          "base_uri": "https://localhost:8080/"
        },
        "id": "y9yoWQPQgl7C",
        "outputId": "c5e6ffe7-880f-499a-d057-18e7c3b9b83f"
      },
      "execution_count": 10,
      "outputs": [
        {
          "output_type": "stream",
          "name": "stdout",
          "text": [
            "(18373, 48, 48, 1)\n",
            "(4594, 48, 48, 1)\n"
          ]
        }
      ]
    },
    {
      "cell_type": "code",
      "source": [
        "from tensorflow.keras.models import Sequential"
      ],
      "metadata": {
        "id": "Y2n5hSXFgoxy"
      },
      "execution_count": 11,
      "outputs": []
    },
    {
      "cell_type": "code",
      "source": [
        "model=Sequential(name=\"Sq\")\n",
        "\n",
        "model.add(Conv2D(64,(3,3),activation='relu',padding='same',input_shape=(48,48,1), name=\"Conv\"))\n",
        "model.add(BatchNormalization())\n",
        "model.add(Conv2D(64,(3,3),activation='relu',padding='same',name=\"Conv_2\"))\n",
        "model.add(BatchNormalization(name=\"batch_2\"))\n",
        "model.add(MaxPooling2D((2,2) , strides=2 ,name=\"Pool_1\"))\n",
        "model.add(Dropout(0.3,name=\"dp1\"))\n",
        "\n",
        "#2nd layer\n",
        "model.add(Conv2D(128,(3,3),activation='relu',padding='same',name=\"Conv2_3\"))\n",
        "model.add(BatchNormalization(name=\"batch3\"))\n",
        "model.add(Conv2D(128,(3,3),activation='relu',padding='same',name=\"Conv2_4\"))\n",
        "model.add(BatchNormalization(name=\"batch4\"))\n",
        "model.add(MaxPooling2D((2,2),strides=(2,2),name=\"Pool2\"))\n",
        "model.add(Dropout(0.3,name=\"dp2\"))\n",
        "\n",
        "#3rd layer\n",
        "model.add(Conv2D(256,(3,3),activation='relu',padding='same',name=\"Conv3_5\"))\n",
        "model.add(BatchNormalization(name=\"batch5\"))\n",
        "model.add(Conv2D(256,(3,3),activation='relu',padding='same',name=\"Conv3_6\"))\n",
        "model.add(BatchNormalization(name=\"batch6\"))\n",
        "model.add(Conv2D(256,(3,3),activation='relu',padding='same',name=\"Conv3_7\"))\n",
        "model.add(BatchNormalization(name=\"batch7\"))\n",
        "model.add(MaxPooling2D((2,2),strides=(2,2),name=\"Pool3\"))\n",
        "model.add(Dropout(0.3,name=\"dp3\"))\n",
        "\n",
        "#4th layer\n",
        "model.add(Conv2D(512,(3,3),activation='relu',padding='same',name=\"Conv4_8\"))\n",
        "model.add(BatchNormalization(name=\"batch8\"))\n",
        "model.add(Conv2D(512,(3,3),activation='relu',padding='same',name=\"Conv4_9\"))\n",
        "model.add(BatchNormalization(name=\"batch9\"))\n",
        "model.add(Conv2D(512,(3,3),activation='relu',padding='same',name=\"Conv4_10\"))\n",
        "model.add(BatchNormalization(name=\"batch10\"))\n",
        "model.add(MaxPooling2D((2,2),strides=(2,2),name=\"Pool4\"))\n",
        "model.add(Dropout(0.3,name=\"dp4\"))\n",
        "\n",
        "#fully connected layer\n",
        "model.add(Flatten())\n",
        "model.add(Dense(256, activation='relu',name='fc_1'))\n",
        "model.add(Dense(128, activation='relu',name='fc_2'))\n",
        "model.add(Dropout(0.6, name=\"dp6\"))\n",
        "model.add(Dense(7,activation='softmax',name=\"output\"))"
      ],
      "metadata": {
        "id": "Fd9XIYEEfbkO"
      },
      "execution_count": 31,
      "outputs": []
    },
    {
      "cell_type": "code",
      "source": [
        "model.summary()"
      ],
      "metadata": {
        "id": "baEBPtdcf2bC",
        "outputId": "b461a728-967a-4363-c52f-47671892068e",
        "colab": {
          "base_uri": "https://localhost:8080/"
        }
      },
      "execution_count": 32,
      "outputs": [
        {
          "output_type": "stream",
          "name": "stdout",
          "text": [
            "Model: \"Sq\"\n",
            "_________________________________________________________________\n",
            " Layer (type)                Output Shape              Param #   \n",
            "=================================================================\n",
            " Conv (Conv2D)               (None, 48, 48, 64)        640       \n",
            "                                                                 \n",
            " batch_normalization_3 (Batc  (None, 48, 48, 64)       256       \n",
            " hNormalization)                                                 \n",
            "                                                                 \n",
            " Conv_2 (Conv2D)             (None, 48, 48, 64)        36928     \n",
            "                                                                 \n",
            " batch_2 (BatchNormalization  (None, 48, 48, 64)       256       \n",
            " )                                                               \n",
            "                                                                 \n",
            " Pool_1 (MaxPooling2D)       (None, 24, 24, 64)        0         \n",
            "                                                                 \n",
            " dp1 (Dropout)               (None, 24, 24, 64)        0         \n",
            "                                                                 \n",
            " Conv2_3 (Conv2D)            (None, 24, 24, 128)       73856     \n",
            "                                                                 \n",
            " batch3 (BatchNormalization)  (None, 24, 24, 128)      512       \n",
            "                                                                 \n",
            " Conv2_4 (Conv2D)            (None, 24, 24, 128)       147584    \n",
            "                                                                 \n",
            " batch4 (BatchNormalization)  (None, 24, 24, 128)      512       \n",
            "                                                                 \n",
            " Pool2 (MaxPooling2D)        (None, 12, 12, 128)       0         \n",
            "                                                                 \n",
            " dp2 (Dropout)               (None, 12, 12, 128)       0         \n",
            "                                                                 \n",
            " Conv3_5 (Conv2D)            (None, 12, 12, 256)       295168    \n",
            "                                                                 \n",
            " batch5 (BatchNormalization)  (None, 12, 12, 256)      1024      \n",
            "                                                                 \n",
            " Conv3_6 (Conv2D)            (None, 12, 12, 256)       590080    \n",
            "                                                                 \n",
            " batch6 (BatchNormalization)  (None, 12, 12, 256)      1024      \n",
            "                                                                 \n",
            " Conv3_7 (Conv2D)            (None, 12, 12, 256)       590080    \n",
            "                                                                 \n",
            " batch7 (BatchNormalization)  (None, 12, 12, 256)      1024      \n",
            "                                                                 \n",
            " Pool3 (MaxPooling2D)        (None, 6, 6, 256)         0         \n",
            "                                                                 \n",
            " dp3 (Dropout)               (None, 6, 6, 256)         0         \n",
            "                                                                 \n",
            " Conv4_8 (Conv2D)            (None, 6, 6, 512)         1180160   \n",
            "                                                                 \n",
            " batch8 (BatchNormalization)  (None, 6, 6, 512)        2048      \n",
            "                                                                 \n",
            " Conv4_9 (Conv2D)            (None, 6, 6, 512)         2359808   \n",
            "                                                                 \n",
            " batch9 (BatchNormalization)  (None, 6, 6, 512)        2048      \n",
            "                                                                 \n",
            " Conv4_10 (Conv2D)           (None, 6, 6, 512)         2359808   \n",
            "                                                                 \n",
            " batch10 (BatchNormalization  (None, 6, 6, 512)        2048      \n",
            " )                                                               \n",
            "                                                                 \n",
            " Pool4 (MaxPooling2D)        (None, 3, 3, 512)         0         \n",
            "                                                                 \n",
            " dp4 (Dropout)               (None, 3, 3, 512)         0         \n",
            "                                                                 \n",
            " flatten_3 (Flatten)         (None, 4608)              0         \n",
            "                                                                 \n",
            " fc_1 (Dense)                (None, 256)               1179904   \n",
            "                                                                 \n",
            " fc_2 (Dense)                (None, 128)               32896     \n",
            "                                                                 \n",
            " dp6 (Dropout)               (None, 128)               0         \n",
            "                                                                 \n",
            " output (Dense)              (None, 7)                 903       \n",
            "                                                                 \n",
            "=================================================================\n",
            "Total params: 8,858,567\n",
            "Trainable params: 8,853,191\n",
            "Non-trainable params: 5,376\n",
            "_________________________________________________________________\n"
          ]
        }
      ]
    },
    {
      "cell_type": "code",
      "source": [
        "model.compile(optimizer='adam',loss='sparse_categorical_crossentropy',metrics=['accuracy'])"
      ],
      "metadata": {
        "id": "oypn2w5pgOqI"
      },
      "execution_count": 33,
      "outputs": []
    },
    {
      "cell_type": "code",
      "source": [
        "history=model.fit(x=x_train,y=y_train,epochs=20,verbose=1,validation_split=0.2)"
      ],
      "metadata": {
        "id": "Y6vc9C1Wgfz8",
        "outputId": "b61a29e9-6090-4070-c90b-03739a5a32c6",
        "colab": {
          "base_uri": "https://localhost:8080/"
        }
      },
      "execution_count": 37,
      "outputs": [
        {
          "output_type": "stream",
          "name": "stdout",
          "text": [
            "Epoch 1/20\n",
            "460/460 [==============================] - 20s 44ms/step - loss: 1.2791 - accuracy: 0.5032 - val_loss: 1.8872 - val_accuracy: 0.3282\n",
            "Epoch 2/20\n",
            "460/460 [==============================] - 20s 43ms/step - loss: 1.2463 - accuracy: 0.5188 - val_loss: 2.0771 - val_accuracy: 0.1815\n",
            "Epoch 3/20\n",
            "460/460 [==============================] - 20s 43ms/step - loss: 1.2009 - accuracy: 0.5405 - val_loss: 1.6275 - val_accuracy: 0.4161\n",
            "Epoch 4/20\n",
            "460/460 [==============================] - 20s 43ms/step - loss: 1.1576 - accuracy: 0.5621 - val_loss: 1.4513 - val_accuracy: 0.4490\n",
            "Epoch 5/20\n",
            "460/460 [==============================] - 20s 43ms/step - loss: 1.1133 - accuracy: 0.5756 - val_loss: 1.7406 - val_accuracy: 0.3464\n",
            "Epoch 6/20\n",
            "460/460 [==============================] - 20s 43ms/step - loss: 1.0654 - accuracy: 0.5916 - val_loss: 1.4880 - val_accuracy: 0.4386\n",
            "Epoch 7/20\n",
            "460/460 [==============================] - 20s 43ms/step - loss: 1.0345 - accuracy: 0.6132 - val_loss: 1.7457 - val_accuracy: 0.3127\n",
            "Epoch 8/20\n",
            "460/460 [==============================] - 20s 43ms/step - loss: 0.9761 - accuracy: 0.6358 - val_loss: 2.0319 - val_accuracy: 0.3418\n",
            "Epoch 9/20\n",
            "460/460 [==============================] - 20s 43ms/step - loss: 0.9270 - accuracy: 0.6605 - val_loss: 1.4594 - val_accuracy: 0.4737\n",
            "Epoch 10/20\n",
            "460/460 [==============================] - 20s 43ms/step - loss: 0.8839 - accuracy: 0.6772 - val_loss: 1.4481 - val_accuracy: 0.5069\n",
            "Epoch 11/20\n",
            "460/460 [==============================] - 20s 43ms/step - loss: 0.8196 - accuracy: 0.7021 - val_loss: 1.6331 - val_accuracy: 0.4963\n",
            "Epoch 12/20\n",
            "460/460 [==============================] - 20s 43ms/step - loss: 0.7704 - accuracy: 0.7254 - val_loss: 1.6613 - val_accuracy: 0.5189\n",
            "Epoch 13/20\n",
            "460/460 [==============================] - 19s 42ms/step - loss: 0.7260 - accuracy: 0.7426 - val_loss: 1.6896 - val_accuracy: 0.5088\n",
            "Epoch 14/20\n",
            "460/460 [==============================] - 20s 43ms/step - loss: 0.6667 - accuracy: 0.7645 - val_loss: 1.5209 - val_accuracy: 0.5687\n",
            "Epoch 15/20\n",
            "460/460 [==============================] - 20s 43ms/step - loss: 0.6131 - accuracy: 0.7848 - val_loss: 4.2645 - val_accuracy: 0.4022\n",
            "Epoch 16/20\n",
            "460/460 [==============================] - 20s 43ms/step - loss: 0.5731 - accuracy: 0.8050 - val_loss: 1.8018 - val_accuracy: 0.5420\n",
            "Epoch 17/20\n",
            "460/460 [==============================] - 20s 43ms/step - loss: 0.5190 - accuracy: 0.8241 - val_loss: 9.4618 - val_accuracy: 0.2444\n",
            "Epoch 18/20\n",
            "460/460 [==============================] - 20s 43ms/step - loss: 0.4678 - accuracy: 0.8408 - val_loss: 1.9651 - val_accuracy: 0.5472\n",
            "Epoch 19/20\n",
            "460/460 [==============================] - 20s 43ms/step - loss: 0.4281 - accuracy: 0.8563 - val_loss: 2.0597 - val_accuracy: 0.3948\n",
            "Epoch 20/20\n",
            "460/460 [==============================] - 20s 43ms/step - loss: 0.3908 - accuracy: 0.8698 - val_loss: 2.3295 - val_accuracy: 0.2465\n"
          ]
        }
      ]
    },
    {
      "cell_type": "code",
      "source": [
        "import matplotlib.pyplot as plt\n",
        "plt.plot(history.history['accuracy'],color='red',label='train')\n",
        "plt.plot(history.history['val_accuracy'],color='blue',label='validation')\n",
        "plt.legend()\n",
        "plt.show()"
      ],
      "metadata": {
        "id": "AVHjcl4ZilLm",
        "outputId": "e57dd4cb-e961-46a0-cfff-0de79eea0327",
        "colab": {
          "base_uri": "https://localhost:8080/",
          "height": 430
        }
      },
      "execution_count": 15,
      "outputs": [
        {
          "output_type": "display_data",
          "data": {
            "text/plain": [
              "<Figure size 640x480 with 1 Axes>"
            ],
            "image/png": "[encoded data removed]"
          },
          "metadata": {}
        }
      ]
    },
    {
      "cell_type": "code",
      "source": [
        "model.evaluate(x=x_test,y=y_test,verbose=1)"
      ],
      "metadata": {
        "id": "_umucz1aizAU",
        "outputId": "e9a8f218-62a1-468f-fab8-bffb55d1c22f",
        "colab": {
          "base_uri": "https://localhost:8080/"
        }
      },
      "execution_count": 36,
      "outputs": [
        {
          "output_type": "stream",
          "name": "stdout",
          "text": [
            "144/144 [==============================] - 2s 11ms/step - loss: 1.3990 - accuracy: 0.4617\n"
          ]
        },
        {
          "output_type": "execute_result",
          "data": {
            "text/plain": [
              "[1.3989531993865967, 0.46168917417526245]"
            ]
          },
          "metadata": {},
          "execution_count": 36
        }
      ]
    }
  ]
}